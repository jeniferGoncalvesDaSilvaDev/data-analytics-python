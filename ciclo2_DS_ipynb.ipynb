{
  "nbformat": 4,
  "nbformat_minor": 0,
  "metadata": {
    "colab": {
      "provenance": [],
      "authorship_tag": "ABX9TyMAf7B1GdQNIByCzozWJG6P",
      "include_colab_link": true
    },
    "kernelspec": {
      "name": "python3",
      "display_name": "Python 3"
    },
    "language_info": {
      "name": "python"
    }
  },
  "cells": [
    {
      "cell_type": "markdown",
      "metadata": {
        "id": "view-in-github",
        "colab_type": "text"
      },
      "source": [
        "<a href=\"https://colab.research.google.com/github/jeniferGoncalvesDaSilvaDev/data-analytics-python/blob/master/ciclo2_DS_ipynb.ipynb\" target=\"_parent\"><img src=\"https://colab.research.google.com/assets/colab-badge.svg\" alt=\"Open In Colab\"/></a>"
      ]
    },
    {
      "cell_type": "markdown",
      "source": [
        "1. Quais são as categorias de imóveis que estão cadastradas dentro da base\n",
        "de dados da cidade de Nova York?\n",
        "2. Quantos usuários (Hosts) únicos cadastrados existem dentro da base de\n",
        "dados da cidade de Nova York?\n",
        "3. Como é a variação do preços dos imóveis em NY?\n",
        "4. Existem mais imóveis baratos ou caros?\n",
        "5. Qual a distribuição do número de Reviews? Existem imóveis com muitos e\n",
        "outro com poucos reviews?"
      ],
      "metadata": {
        "id": "-BKLR1dBOUGd"
      }
    },
    {
      "cell_type": "code",
      "execution_count": null,
      "metadata": {
        "id": "-Nd2zaKVM5yM"
      },
      "outputs": [],
      "source": []
    }
  ]
}