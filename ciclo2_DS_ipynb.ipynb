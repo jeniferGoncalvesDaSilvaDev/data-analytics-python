{
  "nbformat": 4,
  "nbformat_minor": 0,
  "metadata": {
    "colab": {
      "provenance": [],
      "authorship_tag": "ABX9TyPe2QN8FLmbhiR8r6jtzCOA",
      "include_colab_link": true
    },
    "kernelspec": {
      "name": "python3",
      "display_name": "Python 3"
    },
    "language_info": {
      "name": "python"
    }
  },
  "cells": [
    {
      "cell_type": "markdown",
      "metadata": {
        "id": "view-in-github",
        "colab_type": "text"
      },
      "source": [
        "<a href=\"https://colab.research.google.com/github/jeniferGoncalvesDaSilvaDev/data-analytics-python/blob/master/ciclo2_DS_ipynb.ipynb\" target=\"_parent\"><img src=\"https://colab.research.google.com/assets/colab-badge.svg\" alt=\"Open In Colab\"/></a>"
      ]
    },
    {
      "cell_type": "markdown",
      "source": [
        "1. Quais são as categorias de imóveis que estão cadastradas dentro da base\n",
        "de dados da cidade de Nova York?\n",
        "2. Quantos usuários (Hosts) únicos cadastrados existem dentro da base de\n",
        "dados da cidade de Nova York?\n",
        "3. Como é a variação do preços dos imóveis em NY?\n",
        "4. Existem mais imóveis baratos ou caros?\n",
        "5. Qual a distribuição do número de Reviews? Existem imóveis com muitos e\n",
        "outro com poucos reviews?"
      ],
      "metadata": {
        "id": "-BKLR1dBOUGd"
      }
    },
    {
      "cell_type": "markdown",
      "source": [
        "Variancia e desvio padrao"
      ],
      "metadata": {
        "id": "-3E75MpxVXpN"
      }
    },
    {
      "cell_type": "code",
      "source": [
        "import math\n",
        "import statistics as sp\n",
        "import numpy as np\n",
        "from matplotlib import pyplot as plt"
      ],
      "metadata": {
        "id": "rg11dNLhVlEL"
      },
      "execution_count": 9,
      "outputs": []
    },
    {
      "cell_type": "code",
      "source": [
        "dados =[8,9,4,2,2]\n",
        "media = sp.mean(dados)\n",
        "print('a media')\n",
        "print(media)\n",
        "pontos=[]\n",
        "#calcular variancia\n",
        "#v = (soma (variavel do conjunto de dados - referencia(ex:media)**2))/tamanho_da_amostra\n",
        "#desvio padrao = raiz quadrarda da variancia\n",
        "for dado in dados:\n",
        "  print('----------------')\n",
        "  print(f'dado: {dado}')\n",
        "  ponto = (dado - media)**2\n",
        "  pontos.append(ponto)\n",
        "print('--------------------')\n",
        "print(pontos)\n",
        "variancia = sum(pontos)/len(dados)\n",
        "print(variancia)\n",
        "desvio_padrao = math.sqrt(variancia)\n",
        "print(f'{desvio_padrao:.2f}')"
      ],
      "metadata": {
        "colab": {
          "base_uri": "https://localhost:8080/"
        },
        "id": "YJv8B4ciVVEl",
        "outputId": "b169f317-999b-4b97-c560-f03976542e3d"
      },
      "execution_count": 10,
      "outputs": [
        {
          "output_type": "stream",
          "name": "stdout",
          "text": [
            "a media\n",
            "5\n",
            "----------------\n",
            "dado: 8\n",
            "----------------\n",
            "dado: 9\n",
            "----------------\n",
            "dado: 4\n",
            "----------------\n",
            "dado: 2\n",
            "----------------\n",
            "dado: 2\n",
            "--------------------\n",
            "[9, 16, 1, 9, 9]\n",
            "8.8\n",
            "2.97\n"
          ]
        }
      ]
    },
    {
      "cell_type": "markdown",
      "source": [
        "Apenas as ferramentas de statistics e math"
      ],
      "metadata": {
        "id": "ucHdISdZYyOA"
      }
    },
    {
      "cell_type": "code",
      "source": [
        "variancia2 = sp.variance(pontos)\n",
        "print(variancia2)"
      ],
      "metadata": {
        "colab": {
          "base_uri": "https://localhost:8080/"
        },
        "id": "D3tntZHSY4KI",
        "outputId": "e8ef2c59-c21e-43ad-b647-152d7970a0ed"
      },
      "execution_count": null,
      "outputs": [
        {
          "output_type": "stream",
          "name": "stdout",
          "text": [
            "28.2\n"
          ]
        }
      ]
    },
    {
      "cell_type": "markdown",
      "source": [
        "Calculando o desvio padrão usando np"
      ],
      "metadata": {
        "id": "WqKhIJQqCSWA"
      }
    },
    {
      "cell_type": "code",
      "source": [
        "dv= np.std(dados)\n",
        "print(dv)"
      ],
      "metadata": {
        "id": "rxh1DKiACZKc",
        "outputId": "86cccc8c-7c9e-4f78-b9d2-e52014ea0e8a",
        "colab": {
          "base_uri": "https://localhost:8080/"
        }
      },
      "execution_count": 11,
      "outputs": [
        {
          "output_type": "stream",
          "name": "stdout",
          "text": [
            "2.9664793948382653\n"
          ]
        }
      ]
    },
    {
      "cell_type": "code",
      "source": [
        "plt.histogram(dados,bins=20)"
      ],
      "metadata": {
        "id": "6avfK2guChVJ",
        "outputId": "c780ce89-9d9d-4b63-85c0-ea7b3ccf3b41",
        "colab": {
          "base_uri": "https://localhost:8080/",
          "height": 280
        }
      },
      "execution_count": 12,
      "outputs": [
        {
          "output_type": "error",
          "ename": "AttributeError",
          "evalue": "ignored",
          "traceback": [
            "\u001b[0;31m---------------------------------------------------------------------------\u001b[0m",
            "\u001b[0;31mAttributeError\u001b[0m                            Traceback (most recent call last)",
            "\u001b[0;32m<ipython-input-12-7898ed47dbb3>\u001b[0m in \u001b[0;36m<cell line: 1>\u001b[0;34m()\u001b[0m\n\u001b[0;32m----> 1\u001b[0;31m \u001b[0mplt\u001b[0m\u001b[0;34m.\u001b[0m\u001b[0mhistogram\u001b[0m\u001b[0;34m(\u001b[0m\u001b[0mdados\u001b[0m\u001b[0;34m,\u001b[0m\u001b[0mbins\u001b[0m\u001b[0;34m=\u001b[0m\u001b[0;36m20\u001b[0m\u001b[0;34m)\u001b[0m\u001b[0;34m\u001b[0m\u001b[0;34m\u001b[0m\u001b[0m\n\u001b[0m",
            "\u001b[0;31mAttributeError\u001b[0m: module 'matplotlib.pyplot' has no attribute 'histogram'"
          ]
        }
      ]
    }
  ]
}