{
  "nbformat": 4,
  "nbformat_minor": 0,
  "metadata": {
    "colab": {
      "provenance": [],
      "authorship_tag": "ABX9TyMdozq8EqFand55eeJlGQZE",
      "include_colab_link": true
    },
    "kernelspec": {
      "name": "python3",
      "display_name": "Python 3"
    },
    "language_info": {
      "name": "python"
    }
  },
  "cells": [
    {
      "cell_type": "markdown",
      "metadata": {
        "id": "view-in-github",
        "colab_type": "text"
      },
      "source": [
        "<a href=\"https://colab.research.google.com/github/jeniferGoncalvesDaSilvaDev/data-analytics-python/blob/master/ciclo2_DS_ipynb.ipynb\" target=\"_parent\"><img src=\"https://colab.research.google.com/assets/colab-badge.svg\" alt=\"Open In Colab\"/></a>"
      ]
    },
    {
      "cell_type": "markdown",
      "source": [
        "1. Quais são as categorias de imóveis que estão cadastradas dentro da base\n",
        "de dados da cidade de Nova York?\n",
        "2. Quantos usuários (Hosts) únicos cadastrados existem dentro da base de\n",
        "dados da cidade de Nova York?\n",
        "3. Como é a variação do preços dos imóveis em NY?\n",
        "4. Existem mais imóveis baratos ou caros?\n",
        "5. Qual a distribuição do número de Reviews? Existem imóveis com muitos e\n",
        "outro com poucos reviews?"
      ],
      "metadata": {
        "id": "-BKLR1dBOUGd"
      }
    },
    {
      "cell_type": "markdown",
      "source": [
        "Variancia e desvio padrao"
      ],
      "metadata": {
        "id": "-3E75MpxVXpN"
      }
    },
    {
      "cell_type": "code",
      "source": [
        "import math\n",
        "import statistics as sp"
      ],
      "metadata": {
        "id": "rg11dNLhVlEL"
      },
      "execution_count": null,
      "outputs": []
    },
    {
      "cell_type": "code",
      "source": [
        "dados =[8,9,4,2,2]\n",
        "media = sp.mean(dados)\n",
        "print('a media')\n",
        "print(media)\n",
        "pontos=[]\n",
        "#calcular variancia\n",
        "#v = (soma (variavel do conjunto de dados - referencia(ex:media)**2))/tamanho_da_amostra\n",
        "#desvio padrao = raiz quadrarda da variancia\n",
        "for dado in dados:\n",
        "  print('----------------')\n",
        "  print(f'dado: {dado}')\n",
        "  ponto = (dado - media)**2\n",
        "  pontos.append(ponto)\n",
        "print('--------------------')\n",
        "print(pontos)\n",
        "variancia = sum(pontos)/len(dados)\n",
        "print(variancia)\n",
        "desvio_padrao = math.sqrt(variancia)\n",
        "print(f'{desvio_padrao:.2f}')"
      ],
      "metadata": {
        "colab": {
          "base_uri": "https://localhost:8080/"
        },
        "id": "YJv8B4ciVVEl",
        "outputId": "202cbc3e-eb78-4c15-c52e-321822c8ffa7"
      },
      "execution_count": 15,
      "outputs": [
        {
          "output_type": "stream",
          "name": "stdout",
          "text": [
            "a media\n",
            "5\n",
            "----------------\n",
            "dado: 8\n",
            "----------------\n",
            "dado: 9\n",
            "----------------\n",
            "dado: 4\n",
            "----------------\n",
            "dado: 2\n",
            "----------------\n",
            "dado: 2\n",
            "--------------------\n",
            "[9, 16, 1, 9, 9]\n",
            "8.8\n",
            "2.97\n"
          ]
        }
      ]
    },
    {
      "cell_type": "markdown",
      "source": [
        "Apenas as ferramentas de statistics e math"
      ],
      "metadata": {
        "id": "ucHdISdZYyOA"
      }
    },
    {
      "cell_type": "code",
      "source": [
        "variancia2 = sp.variance(pontos)\n",
        "print(variancia2)"
      ],
      "metadata": {
        "colab": {
          "base_uri": "https://localhost:8080/"
        },
        "id": "D3tntZHSY4KI",
        "outputId": "e8ef2c59-c21e-43ad-b647-152d7970a0ed"
      },
      "execution_count": 16,
      "outputs": [
        {
          "output_type": "stream",
          "name": "stdout",
          "text": [
            "28.2\n"
          ]
        }
      ]
    }
  ]
}