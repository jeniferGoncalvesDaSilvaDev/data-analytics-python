{
  "nbformat": 4,
  "nbformat_minor": 0,
  "metadata": {
    "colab": {
      "provenance": [],
      "authorship_tag": "ABX9TyPdrg5gjjc4GxuPRjIxiH3c",
      "include_colab_link": true
    },
    "kernelspec": {
      "name": "python3",
      "display_name": "Python 3"
    },
    "language_info": {
      "name": "python"
    }
  },
  "cells": [
    {
      "cell_type": "markdown",
      "metadata": {
        "id": "view-in-github",
        "colab_type": "text"
      },
      "source": [
        "<a href=\"https://colab.research.google.com/github/jeniferGoncalvesDaSilvaDev/data-analytics-python/blob/master/ciclo2_DS_ipynb.ipynb\" target=\"_parent\"><img src=\"https://colab.research.google.com/assets/colab-badge.svg\" alt=\"Open In Colab\"/></a>"
      ]
    },
    {
      "cell_type": "markdown",
      "source": [
        "1. Quais são as categorias de imóveis que estão cadastradas dentro da base\n",
        "de dados da cidade de Nova York?\n",
        "2. Quantos usuários (Hosts) únicos cadastrados existem dentro da base de\n",
        "dados da cidade de Nova York?\n",
        "3. Como é a variação do preços dos imóveis em NY?\n",
        "4. Existem mais imóveis baratos ou caros?\n",
        "5. Qual a distribuição do número de Reviews? Existem imóveis com muitos e\n",
        "outro com poucos reviews?"
      ],
      "metadata": {
        "id": "-BKLR1dBOUGd"
      }
    },
    {
      "cell_type": "markdown",
      "source": [
        "Variancia e desvio padrao"
      ],
      "metadata": {
        "id": "-3E75MpxVXpN"
      }
    },
    {
      "cell_type": "code",
      "source": [
        "import math\n",
        "import statistics as sp\n",
        "import numpy as np\n",
        "from matplotlib import pyplot as plt"
      ],
      "metadata": {
        "id": "rg11dNLhVlEL"
      },
      "execution_count": 13,
      "outputs": []
    },
    {
      "cell_type": "code",
      "source": [
        "dados =[8,9,4,2,2]\n",
        "media = sp.mean(dados)\n",
        "print('a media')\n",
        "print(media)\n",
        "pontos=[]\n",
        "#calcular variancia\n",
        "#v = (soma (variavel do conjunto de dados - referencia(ex:media)**2))/tamanho_da_amostra\n",
        "#desvio padrao = raiz quadrarda da variancia\n",
        "for dado in dados:\n",
        "  print('----------------')\n",
        "  print(f'dado: {dado}')\n",
        "  ponto = (dado - media)**2\n",
        "  pontos.append(ponto)\n",
        "print('--------------------')\n",
        "print(pontos)\n",
        "variancia = sum(pontos)/len(dados)\n",
        "print(variancia)\n",
        "desvio_padrao = math.sqrt(variancia)\n",
        "print(f'{desvio_padrao:.2f}')"
      ],
      "metadata": {
        "colab": {
          "base_uri": "https://localhost:8080/"
        },
        "id": "YJv8B4ciVVEl",
        "outputId": "72783852-0791-481c-9bc8-1681fff848f4"
      },
      "execution_count": 14,
      "outputs": [
        {
          "output_type": "stream",
          "name": "stdout",
          "text": [
            "a media\n",
            "5\n",
            "----------------\n",
            "dado: 8\n",
            "----------------\n",
            "dado: 9\n",
            "----------------\n",
            "dado: 4\n",
            "----------------\n",
            "dado: 2\n",
            "----------------\n",
            "dado: 2\n",
            "--------------------\n",
            "[9, 16, 1, 9, 9]\n",
            "8.8\n",
            "2.97\n"
          ]
        }
      ]
    },
    {
      "cell_type": "markdown",
      "source": [
        "Apenas as ferramentas de statistics e math"
      ],
      "metadata": {
        "id": "ucHdISdZYyOA"
      }
    },
    {
      "cell_type": "code",
      "source": [
        "variancia2 = sp.variance(pontos)\n",
        "print(variancia2)"
      ],
      "metadata": {
        "colab": {
          "base_uri": "https://localhost:8080/"
        },
        "id": "D3tntZHSY4KI",
        "outputId": "e8ef2c59-c21e-43ad-b647-152d7970a0ed"
      },
      "execution_count": null,
      "outputs": [
        {
          "output_type": "stream",
          "name": "stdout",
          "text": [
            "28.2\n"
          ]
        }
      ]
    },
    {
      "cell_type": "markdown",
      "source": [
        "Calculando o desvio padrão usando np"
      ],
      "metadata": {
        "id": "WqKhIJQqCSWA"
      }
    },
    {
      "cell_type": "code",
      "source": [
        "dv= np.std(dados)\n",
        "print(dv)"
      ],
      "metadata": {
        "id": "rxh1DKiACZKc",
        "outputId": "86cccc8c-7c9e-4f78-b9d2-e52014ea0e8a",
        "colab": {
          "base_uri": "https://localhost:8080/"
        }
      },
      "execution_count": null,
      "outputs": [
        {
          "output_type": "stream",
          "name": "stdout",
          "text": [
            "2.9664793948382653\n"
          ]
        }
      ]
    },
    {
      "cell_type": "code",
      "source": [
        "plt.hist(dados,bins=5)"
      ],
      "metadata": {
        "id": "6avfK2guChVJ",
        "outputId": "51a6a16e-3d2e-416d-d096-dd99143eed77",
        "colab": {
          "base_uri": "https://localhost:8080/",
          "height": 312
        }
      },
      "execution_count": 16,
      "outputs": [
        {
          "output_type": "execute_result",
          "data": {
            "text/plain": [
              "(array([2., 1., 0., 0., 2.]),\n",
              " array([2. , 3.4, 4.8, 6.2, 7.6, 9. ]),\n",
              " <BarContainer object of 5 artists>)"
            ]
          },
          "metadata": {},
          "execution_count": 16
        },
        {
          "output_type": "display_data",
          "data": {
            "text/plain": [
              "<Figure size 640x480 with 1 Axes>"
            ],
            "image/png": "[encoded data removed]"
          },
          "metadata": {}
        }
      ]
    }
  ]
}